{
 "cells": [
  {
   "cell_type": "code",
   "execution_count": 1,
   "metadata": {},
   "outputs": [],
   "source": [
    "import numpy as np\n",
    "import pandas as pd\n",
    "import matplotlib.pyplot as plt\n",
    "import seaborn as sns\n",
    "\n",
    "import pgmpy"
   ]
  },
  {
   "cell_type": "markdown",
   "metadata": {},
   "source": [
    "### Data importing"
   ]
  },
  {
   "cell_type": "code",
   "execution_count": 2,
   "metadata": {},
   "outputs": [
    {
     "data": {
      "text/html": [
       "<div>\n",
       "<style scoped>\n",
       "    .dataframe tbody tr th:only-of-type {\n",
       "        vertical-align: middle;\n",
       "    }\n",
       "\n",
       "    .dataframe tbody tr th {\n",
       "        vertical-align: top;\n",
       "    }\n",
       "\n",
       "    .dataframe thead th {\n",
       "        text-align: right;\n",
       "    }\n",
       "</style>\n",
       "<table border=\"1\" class=\"dataframe\">\n",
       "  <thead>\n",
       "    <tr style=\"text-align: right;\">\n",
       "      <th></th>\n",
       "      <th>age</th>\n",
       "      <th>age_group</th>\n",
       "      <th>sex</th>\n",
       "      <th>bmi_group</th>\n",
       "      <th>bmi</th>\n",
       "      <th>children</th>\n",
       "      <th>smoker</th>\n",
       "      <th>charges_group</th>\n",
       "      <th>charges</th>\n",
       "      <th>insuranceclaim</th>\n",
       "      <th>northeast</th>\n",
       "      <th>northwest</th>\n",
       "      <th>southeast</th>\n",
       "      <th>southwest</th>\n",
       "    </tr>\n",
       "  </thead>\n",
       "  <tbody>\n",
       "    <tr>\n",
       "      <th>0</th>\n",
       "      <td>19</td>\n",
       "      <td>Young_Adult</td>\n",
       "      <td>1</td>\n",
       "      <td>Overweight</td>\n",
       "      <td>27.900</td>\n",
       "      <td>0</td>\n",
       "      <td>1</td>\n",
       "      <td>Very_High</td>\n",
       "      <td>16884.92400</td>\n",
       "      <td>1</td>\n",
       "      <td>0</td>\n",
       "      <td>0</td>\n",
       "      <td>0</td>\n",
       "      <td>1</td>\n",
       "    </tr>\n",
       "    <tr>\n",
       "      <th>1</th>\n",
       "      <td>18</td>\n",
       "      <td>Young_Adult</td>\n",
       "      <td>0</td>\n",
       "      <td>Obese</td>\n",
       "      <td>33.770</td>\n",
       "      <td>1</td>\n",
       "      <td>0</td>\n",
       "      <td>Low</td>\n",
       "      <td>1725.55230</td>\n",
       "      <td>1</td>\n",
       "      <td>0</td>\n",
       "      <td>0</td>\n",
       "      <td>1</td>\n",
       "      <td>0</td>\n",
       "    </tr>\n",
       "    <tr>\n",
       "      <th>2</th>\n",
       "      <td>28</td>\n",
       "      <td>Young_Adult</td>\n",
       "      <td>0</td>\n",
       "      <td>Obese</td>\n",
       "      <td>33.000</td>\n",
       "      <td>3</td>\n",
       "      <td>0</td>\n",
       "      <td>Average</td>\n",
       "      <td>4449.46200</td>\n",
       "      <td>0</td>\n",
       "      <td>0</td>\n",
       "      <td>0</td>\n",
       "      <td>1</td>\n",
       "      <td>0</td>\n",
       "    </tr>\n",
       "    <tr>\n",
       "      <th>3</th>\n",
       "      <td>33</td>\n",
       "      <td>Middle_Aged</td>\n",
       "      <td>0</td>\n",
       "      <td>Normal</td>\n",
       "      <td>22.705</td>\n",
       "      <td>0</td>\n",
       "      <td>0</td>\n",
       "      <td>Very_High</td>\n",
       "      <td>21984.47061</td>\n",
       "      <td>0</td>\n",
       "      <td>0</td>\n",
       "      <td>1</td>\n",
       "      <td>0</td>\n",
       "      <td>0</td>\n",
       "    </tr>\n",
       "    <tr>\n",
       "      <th>4</th>\n",
       "      <td>32</td>\n",
       "      <td>Middle_Aged</td>\n",
       "      <td>0</td>\n",
       "      <td>Overweight</td>\n",
       "      <td>28.880</td>\n",
       "      <td>0</td>\n",
       "      <td>0</td>\n",
       "      <td>Below_Average</td>\n",
       "      <td>3866.85520</td>\n",
       "      <td>1</td>\n",
       "      <td>0</td>\n",
       "      <td>1</td>\n",
       "      <td>0</td>\n",
       "      <td>0</td>\n",
       "    </tr>\n",
       "  </tbody>\n",
       "</table>\n",
       "</div>"
      ],
      "text/plain": [
       "   age    age_group  sex   bmi_group     bmi  children  smoker  charges_group  \\\n",
       "0   19  Young_Adult    1  Overweight  27.900         0       1      Very_High   \n",
       "1   18  Young_Adult    0       Obese  33.770         1       0            Low   \n",
       "2   28  Young_Adult    0       Obese  33.000         3       0        Average   \n",
       "3   33  Middle_Aged    0      Normal  22.705         0       0      Very_High   \n",
       "4   32  Middle_Aged    0  Overweight  28.880         0       0  Below_Average   \n",
       "\n",
       "       charges  insuranceclaim  northeast  northwest  southeast  southwest  \n",
       "0  16884.92400               1          0          0          0          1  \n",
       "1   1725.55230               1          0          0          1          0  \n",
       "2   4449.46200               0          0          0          1          0  \n",
       "3  21984.47061               0          0          1          0          0  \n",
       "4   3866.85520               1          0          1          0          0  "
      ]
     },
     "execution_count": 2,
     "metadata": {},
     "output_type": "execute_result"
    }
   ],
   "source": [
    "insurance_claim_data = pd.read_csv('./datasets/insurance_claim_cat.csv')\n",
    "\n",
    "insurance_claim_data.head()"
   ]
  },
  {
   "cell_type": "markdown",
   "metadata": {},
   "source": [
    "### Data wrangling/cleaning"
   ]
  },
  {
   "cell_type": "code",
   "execution_count": 3,
   "metadata": {},
   "outputs": [
    {
     "data": {
      "text/html": [
       "<div>\n",
       "<style scoped>\n",
       "    .dataframe tbody tr th:only-of-type {\n",
       "        vertical-align: middle;\n",
       "    }\n",
       "\n",
       "    .dataframe tbody tr th {\n",
       "        vertical-align: top;\n",
       "    }\n",
       "\n",
       "    .dataframe thead th {\n",
       "        text-align: right;\n",
       "    }\n",
       "</style>\n",
       "<table border=\"1\" class=\"dataframe\">\n",
       "  <thead>\n",
       "    <tr style=\"text-align: right;\">\n",
       "      <th></th>\n",
       "      <th>age_group</th>\n",
       "      <th>sex</th>\n",
       "      <th>bmi_group</th>\n",
       "      <th>children</th>\n",
       "      <th>smoker</th>\n",
       "      <th>charges_group</th>\n",
       "      <th>insuranceclaim</th>\n",
       "      <th>northeast</th>\n",
       "      <th>northwest</th>\n",
       "      <th>southeast</th>\n",
       "      <th>southwest</th>\n",
       "    </tr>\n",
       "  </thead>\n",
       "  <tbody>\n",
       "    <tr>\n",
       "      <th>0</th>\n",
       "      <td>Young_Adult</td>\n",
       "      <td>1</td>\n",
       "      <td>Overweight</td>\n",
       "      <td>0</td>\n",
       "      <td>1</td>\n",
       "      <td>Very_High</td>\n",
       "      <td>1</td>\n",
       "      <td>0</td>\n",
       "      <td>0</td>\n",
       "      <td>0</td>\n",
       "      <td>1</td>\n",
       "    </tr>\n",
       "    <tr>\n",
       "      <th>1</th>\n",
       "      <td>Young_Adult</td>\n",
       "      <td>0</td>\n",
       "      <td>Obese</td>\n",
       "      <td>1</td>\n",
       "      <td>0</td>\n",
       "      <td>Low</td>\n",
       "      <td>1</td>\n",
       "      <td>0</td>\n",
       "      <td>0</td>\n",
       "      <td>1</td>\n",
       "      <td>0</td>\n",
       "    </tr>\n",
       "    <tr>\n",
       "      <th>2</th>\n",
       "      <td>Young_Adult</td>\n",
       "      <td>0</td>\n",
       "      <td>Obese</td>\n",
       "      <td>3</td>\n",
       "      <td>0</td>\n",
       "      <td>Average</td>\n",
       "      <td>0</td>\n",
       "      <td>0</td>\n",
       "      <td>0</td>\n",
       "      <td>1</td>\n",
       "      <td>0</td>\n",
       "    </tr>\n",
       "    <tr>\n",
       "      <th>3</th>\n",
       "      <td>Middle_Aged</td>\n",
       "      <td>0</td>\n",
       "      <td>Normal</td>\n",
       "      <td>0</td>\n",
       "      <td>0</td>\n",
       "      <td>Very_High</td>\n",
       "      <td>0</td>\n",
       "      <td>0</td>\n",
       "      <td>1</td>\n",
       "      <td>0</td>\n",
       "      <td>0</td>\n",
       "    </tr>\n",
       "    <tr>\n",
       "      <th>4</th>\n",
       "      <td>Middle_Aged</td>\n",
       "      <td>0</td>\n",
       "      <td>Overweight</td>\n",
       "      <td>0</td>\n",
       "      <td>0</td>\n",
       "      <td>Below_Average</td>\n",
       "      <td>1</td>\n",
       "      <td>0</td>\n",
       "      <td>1</td>\n",
       "      <td>0</td>\n",
       "      <td>0</td>\n",
       "    </tr>\n",
       "  </tbody>\n",
       "</table>\n",
       "</div>"
      ],
      "text/plain": [
       "     age_group  sex   bmi_group  children  smoker  charges_group  \\\n",
       "0  Young_Adult    1  Overweight         0       1      Very_High   \n",
       "1  Young_Adult    0       Obese         1       0            Low   \n",
       "2  Young_Adult    0       Obese         3       0        Average   \n",
       "3  Middle_Aged    0      Normal         0       0      Very_High   \n",
       "4  Middle_Aged    0  Overweight         0       0  Below_Average   \n",
       "\n",
       "   insuranceclaim  northeast  northwest  southeast  southwest  \n",
       "0               1          0          0          0          1  \n",
       "1               1          0          0          1          0  \n",
       "2               0          0          0          1          0  \n",
       "3               0          0          1          0          0  \n",
       "4               1          0          1          0          0  "
      ]
     },
     "execution_count": 3,
     "metadata": {},
     "output_type": "execute_result"
    }
   ],
   "source": [
    "insurance_claim_data = insurance_claim_data.drop(columns = ['age', 'charges', \n",
    "                                                            'bmi'], axis = 1)\n",
    "\n",
    "insurance_claim_data.head()"
   ]
  },
  {
   "cell_type": "code",
   "execution_count": 4,
   "metadata": {},
   "outputs": [
    {
     "data": {
      "text/plain": [
       "Index(['age_group', 'sex', 'bmi_group', 'children', 'smoker', 'charges_group',\n",
       "       'insuranceclaim', 'northeast', 'northwest', 'southeast', 'southwest'],\n",
       "      dtype='object')"
      ]
     },
     "execution_count": 4,
     "metadata": {},
     "output_type": "execute_result"
    }
   ],
   "source": [
    "insurance_claim_data.columns"
   ]
  },
  {
   "cell_type": "code",
   "execution_count": 5,
   "metadata": {},
   "outputs": [],
   "source": [
    "mapping_age_group = {'Young_Adult' : 0, 'Middle_Aged': 1,'Elderly' : 2}"
   ]
  },
  {
   "cell_type": "code",
   "execution_count": 6,
   "metadata": {},
   "outputs": [],
   "source": [
    "mapping_bmi_group = {'Underweight' : 0, 'Normal': 1,'Overweight' : 2,'Obese': 3}"
   ]
  },
  {
   "cell_type": "code",
   "execution_count": 7,
   "metadata": {},
   "outputs": [],
   "source": [
    "mapping_charges_group = {'Low' : 0, 'Below_Average': 1,'Average' : 2,'Very_High': 3}"
   ]
  },
  {
   "cell_type": "code",
   "execution_count": 8,
   "metadata": {},
   "outputs": [],
   "source": [
    "insurance_claim_data['age_group']=insurance_claim_data['age_group'].replace(mapping_age_group)"
   ]
  },
  {
   "cell_type": "code",
   "execution_count": 9,
   "metadata": {},
   "outputs": [],
   "source": [
    "insurance_claim_data['bmi_group']=insurance_claim_data['bmi_group'].replace(mapping_bmi_group)"
   ]
  },
  {
   "cell_type": "code",
   "execution_count": 10,
   "metadata": {},
   "outputs": [],
   "source": [
    "insurance_claim_data['charges_group']=insurance_claim_data['charges_group'].replace(mapping_charges_group )"
   ]
  },
  {
   "cell_type": "code",
   "execution_count": 11,
   "metadata": {},
   "outputs": [
    {
     "data": {
      "text/html": [
       "<div>\n",
       "<style scoped>\n",
       "    .dataframe tbody tr th:only-of-type {\n",
       "        vertical-align: middle;\n",
       "    }\n",
       "\n",
       "    .dataframe tbody tr th {\n",
       "        vertical-align: top;\n",
       "    }\n",
       "\n",
       "    .dataframe thead th {\n",
       "        text-align: right;\n",
       "    }\n",
       "</style>\n",
       "<table border=\"1\" class=\"dataframe\">\n",
       "  <thead>\n",
       "    <tr style=\"text-align: right;\">\n",
       "      <th></th>\n",
       "      <th>age_group</th>\n",
       "      <th>sex</th>\n",
       "      <th>bmi_group</th>\n",
       "      <th>children</th>\n",
       "      <th>smoker</th>\n",
       "      <th>charges_group</th>\n",
       "      <th>insuranceclaim</th>\n",
       "      <th>northeast</th>\n",
       "      <th>northwest</th>\n",
       "      <th>southeast</th>\n",
       "      <th>southwest</th>\n",
       "    </tr>\n",
       "  </thead>\n",
       "  <tbody>\n",
       "    <tr>\n",
       "      <th>0</th>\n",
       "      <td>0</td>\n",
       "      <td>1</td>\n",
       "      <td>2</td>\n",
       "      <td>0</td>\n",
       "      <td>1</td>\n",
       "      <td>3</td>\n",
       "      <td>1</td>\n",
       "      <td>0</td>\n",
       "      <td>0</td>\n",
       "      <td>0</td>\n",
       "      <td>1</td>\n",
       "    </tr>\n",
       "    <tr>\n",
       "      <th>1</th>\n",
       "      <td>0</td>\n",
       "      <td>0</td>\n",
       "      <td>3</td>\n",
       "      <td>1</td>\n",
       "      <td>0</td>\n",
       "      <td>0</td>\n",
       "      <td>1</td>\n",
       "      <td>0</td>\n",
       "      <td>0</td>\n",
       "      <td>1</td>\n",
       "      <td>0</td>\n",
       "    </tr>\n",
       "    <tr>\n",
       "      <th>2</th>\n",
       "      <td>0</td>\n",
       "      <td>0</td>\n",
       "      <td>3</td>\n",
       "      <td>3</td>\n",
       "      <td>0</td>\n",
       "      <td>2</td>\n",
       "      <td>0</td>\n",
       "      <td>0</td>\n",
       "      <td>0</td>\n",
       "      <td>1</td>\n",
       "      <td>0</td>\n",
       "    </tr>\n",
       "    <tr>\n",
       "      <th>3</th>\n",
       "      <td>1</td>\n",
       "      <td>0</td>\n",
       "      <td>1</td>\n",
       "      <td>0</td>\n",
       "      <td>0</td>\n",
       "      <td>3</td>\n",
       "      <td>0</td>\n",
       "      <td>0</td>\n",
       "      <td>1</td>\n",
       "      <td>0</td>\n",
       "      <td>0</td>\n",
       "    </tr>\n",
       "    <tr>\n",
       "      <th>4</th>\n",
       "      <td>1</td>\n",
       "      <td>0</td>\n",
       "      <td>2</td>\n",
       "      <td>0</td>\n",
       "      <td>0</td>\n",
       "      <td>1</td>\n",
       "      <td>1</td>\n",
       "      <td>0</td>\n",
       "      <td>1</td>\n",
       "      <td>0</td>\n",
       "      <td>0</td>\n",
       "    </tr>\n",
       "  </tbody>\n",
       "</table>\n",
       "</div>"
      ],
      "text/plain": [
       "   age_group  sex  bmi_group  children  smoker  charges_group  insuranceclaim  \\\n",
       "0          0    1          2         0       1              3               1   \n",
       "1          0    0          3         1       0              0               1   \n",
       "2          0    0          3         3       0              2               0   \n",
       "3          1    0          1         0       0              3               0   \n",
       "4          1    0          2         0       0              1               1   \n",
       "\n",
       "   northeast  northwest  southeast  southwest  \n",
       "0          0          0          0          1  \n",
       "1          0          0          1          0  \n",
       "2          0          0          1          0  \n",
       "3          0          1          0          0  \n",
       "4          0          1          0          0  "
      ]
     },
     "execution_count": 11,
     "metadata": {},
     "output_type": "execute_result"
    }
   ],
   "source": [
    "insurance_claim_data.head()"
   ]
  },
  {
   "cell_type": "markdown",
   "metadata": {},
   "source": [
    "### Data mining&analyis with pgmpy (Bayesian Network)"
   ]
  },
  {
   "cell_type": "code",
   "execution_count": 12,
   "metadata": {},
   "outputs": [],
   "source": [
    "from sklearn.model_selection import train_test_split\n",
    "\n",
    "X_train, X_test = train_test_split(insurance_claim_data, \n",
    "                                   test_size = 0.2, random_state = 123)"
   ]
  },
  {
   "cell_type": "code",
   "execution_count": 13,
   "metadata": {},
   "outputs": [],
   "source": [
    "from pgmpy.models import NaiveBayes\n",
    "\n",
    "model = NaiveBayes(feature_vars = ['age_group', 'sex', 'bmi_group', 'children', \n",
    "                                   'smoker', 'charges_group', 'northeast', 'northwest', \n",
    "                                   'southeast', 'southwest'], dependent_var = 'insuranceclaim')\n",
    "\n",
    "model.fit(X_train)"
   ]
  },
  {
   "cell_type": "code",
   "execution_count": 14,
   "metadata": {},
   "outputs": [
    {
     "data": {
      "text/plain": [
       "[<TabularCPD representing P(age_group:3 | insuranceclaim:2) at 0x1326ae520>,\n",
       " <TabularCPD representing P(bmi_group:4 | insuranceclaim:2) at 0x1326b9490>,\n",
       " <TabularCPD representing P(charges_group:4 | insuranceclaim:2) at 0x1326b9130>,\n",
       " <TabularCPD representing P(children:6 | insuranceclaim:2) at 0x1326b94c0>,\n",
       " <TabularCPD representing P(insuranceclaim:2) at 0x1326b94f0>,\n",
       " <TabularCPD representing P(northeast:2 | insuranceclaim:2) at 0x1330eefd0>,\n",
       " <TabularCPD representing P(northwest:2 | insuranceclaim:2) at 0x1330eed00>,\n",
       " <TabularCPD representing P(sex:2 | insuranceclaim:2) at 0x1330eea60>,\n",
       " <TabularCPD representing P(smoker:2 | insuranceclaim:2) at 0x1330eefa0>,\n",
       " <TabularCPD representing P(southeast:2 | insuranceclaim:2) at 0x133115e80>,\n",
       " <TabularCPD representing P(southwest:2 | insuranceclaim:2) at 0x133115dc0>]"
      ]
     },
     "execution_count": 14,
     "metadata": {},
     "output_type": "execute_result"
    }
   ],
   "source": [
    "model.get_cpds()"
   ]
  },
  {
   "cell_type": "code",
   "execution_count": 15,
   "metadata": {},
   "outputs": [
    {
     "name": "stdout",
     "output_type": "stream",
     "text": [
      "('insuranceclaim', 'charges_group')\n",
      "('insuranceclaim', 'bmi_group')\n",
      "('insuranceclaim', 'age_group')\n",
      "('insuranceclaim', 'children')\n",
      "('insuranceclaim', 'smoker')\n",
      "('insuranceclaim', 'southwest')\n",
      "('insuranceclaim', 'northwest')\n",
      "('insuranceclaim', 'sex')\n",
      "('insuranceclaim', 'northeast')\n",
      "('insuranceclaim', 'southeast')\n"
     ]
    }
   ],
   "source": [
    "for edge in model.edges():\n",
    "    print(edge)"
   ]
  },
  {
   "cell_type": "code",
   "execution_count": 16,
   "metadata": {},
   "outputs": [
    {
     "data": {
      "text/plain": [
       "(age_group ⟂ charges_group, bmi_group, age_group, children, smoker, southwest, northwest, sex, northeast, southeast | insuranceclaim)"
      ]
     },
     "execution_count": 16,
     "metadata": {},
     "output_type": "execute_result"
    }
   ],
   "source": [
    "model.local_independencies('age_group')"
   ]
  },
  {
   "cell_type": "code",
   "execution_count": 17,
   "metadata": {},
   "outputs": [
    {
     "data": {
      "text/plain": []
     },
     "execution_count": 17,
     "metadata": {},
     "output_type": "execute_result"
    }
   ],
   "source": [
    "model.local_independencies('insuranceclaim')"
   ]
  },
  {
   "cell_type": "code",
   "execution_count": 18,
   "metadata": {},
   "outputs": [],
   "source": [
    "y_test = X_test['insuranceclaim']"
   ]
  },
  {
   "cell_type": "code",
   "execution_count": 19,
   "metadata": {},
   "outputs": [],
   "source": [
    "X_test = X_test.drop('insuranceclaim', axis = 1)"
   ]
  },
  {
   "cell_type": "code",
   "execution_count": 20,
   "metadata": {},
   "outputs": [
    {
     "name": "stderr",
     "output_type": "stream",
     "text": [
      "100%|██████████| 199/199 [00:42<00:00,  4.65it/s]\n"
     ]
    }
   ],
   "source": [
    "y_pred_nb = model.predict(X_test)"
   ]
  },
  {
   "cell_type": "code",
   "execution_count": 21,
   "metadata": {},
   "outputs": [
    {
     "name": "stdout",
     "output_type": "stream",
     "text": [
      "Model accuracy score: 0.7799\n"
     ]
    }
   ],
   "source": [
    "from sklearn.metrics import accuracy_score\n",
    "\n",
    "print('Model accuracy score: {0:0.4f}'. format(accuracy_score(y_test, y_pred_nb)))"
   ]
  },
  {
   "cell_type": "code",
   "execution_count": 22,
   "metadata": {},
   "outputs": [
    {
     "name": "stdout",
     "output_type": "stream",
     "text": [
      "Precision_score : 0.8079470198675497\n",
      "Recall_score : 0.8026315789473685\n"
     ]
    }
   ],
   "source": [
    "from sklearn.metrics import precision_score, recall_score\n",
    "\n",
    "print('Precision_score :',precision_score(y_test, y_pred_nb))\n",
    "      \n",
    "print('Recall_score :',recall_score(y_test, y_pred_nb))"
   ]
  },
  {
   "cell_type": "markdown",
   "metadata": {},
   "source": [
    "If precision decreases, we expect recall to increase."
   ]
  },
  {
   "cell_type": "code",
   "execution_count": 23,
   "metadata": {},
   "outputs": [
    {
     "name": "stderr",
     "output_type": "stream",
     "text": [
      "Finding Elimination Order: :   0%|          | 0/10 [00:00<?, ?it/s]\n",
      "  0%|          | 0/10 [00:00<?, ?it/s]\u001b[A\n",
      "Eliminating: charges_group:   0%|          | 0/10 [00:00<?, ?it/s]\u001b[A\n",
      "Eliminating: bmi_group:   0%|          | 0/10 [00:00<?, ?it/s]    \u001b[A\n",
      "Eliminating: age_group:   0%|          | 0/10 [00:00<?, ?it/s]\u001b[A\n",
      "Eliminating: children:   0%|          | 0/10 [00:00<?, ?it/s] \u001b[A\n",
      "Eliminating: smoker:   0%|          | 0/10 [00:00<?, ?it/s]  \u001b[A\n",
      "Eliminating: southwest:   0%|          | 0/10 [00:00<?, ?it/s]\u001b[A\n",
      "Eliminating: northwest:   0%|          | 0/10 [00:00<?, ?it/s]\u001b[A\n",
      "Eliminating: sex:   0%|          | 0/10 [00:00<?, ?it/s]      \u001b[A\n",
      "Eliminating: northeast:   0%|          | 0/10 [00:00<?, ?it/s]\u001b[A\n",
      "Eliminating: southeast: 100%|██████████| 10/10 [00:00<00:00, 131.29it/s]"
     ]
    },
    {
     "name": "stdout",
     "output_type": "stream",
     "text": [
      "+-------------------+-----------------------+\n",
      "| insuranceclaim    |   phi(insuranceclaim) |\n",
      "+===================+=======================+\n",
      "| insuranceclaim(0) |                0.4103 |\n",
      "+-------------------+-----------------------+\n",
      "| insuranceclaim(1) |                0.5897 |\n",
      "+-------------------+-----------------------+\n"
     ]
    },
    {
     "name": "stderr",
     "output_type": "stream",
     "text": [
      "\n"
     ]
    }
   ],
   "source": [
    "from pgmpy.inference import VariableElimination\n",
    "\n",
    "infer = VariableElimination(model)\n",
    "\n",
    "ins_claim_dist = infer.query(['insuranceclaim'])\n",
    "\n",
    "print(ins_claim_dist)"
   ]
  },
  {
   "cell_type": "code",
   "execution_count": 24,
   "metadata": {},
   "outputs": [
    {
     "name": "stderr",
     "output_type": "stream",
     "text": [
      "\n",
      "  0%|          | 0/8 [00:00<?, ?it/s]\u001b[A\n",
      "Finding Elimination Order: :   0%|          | 0/8 [00:00<?, ?it/s]\u001b[A\n",
      "\n",
      "  0%|          | 0/8 [00:00<?, ?it/s]\u001b[A\u001b[A\n",
      "\n",
      "Eliminating: charges_group:   0%|          | 0/8 [00:00<?, ?it/s]\u001b[A\u001b[A\n",
      "\n",
      "Eliminating: age_group:   0%|          | 0/8 [00:00<?, ?it/s]    \u001b[A\u001b[A\n",
      "\n",
      "Eliminating: children:   0%|          | 0/8 [00:00<?, ?it/s] \u001b[A\u001b[A\n",
      "\n",
      "Eliminating: southwest:   0%|          | 0/8 [00:00<?, ?it/s]\u001b[A\u001b[A\n",
      "\n",
      "Eliminating: northwest:   0%|          | 0/8 [00:00<?, ?it/s]\u001b[A\u001b[A\n",
      "\n",
      "Eliminating: sex:   0%|          | 0/8 [00:00<?, ?it/s]      \u001b[A\u001b[A\n",
      "\n",
      "Eliminating: northeast:   0%|          | 0/8 [00:00<?, ?it/s]\u001b[A\u001b[A\n",
      "\n",
      "Eliminating: southeast: 100%|██████████| 8/8 [00:00<00:00, 154.71it/s]"
     ]
    },
    {
     "name": "stdout",
     "output_type": "stream",
     "text": [
      "+-------------------+-----------------------+\n",
      "| insuranceclaim    |   phi(insuranceclaim) |\n",
      "+===================+=======================+\n",
      "| insuranceclaim(0) |                0.5311 |\n",
      "+-------------------+-----------------------+\n",
      "| insuranceclaim(1) |                0.4689 |\n",
      "+-------------------+-----------------------+\n"
     ]
    },
    {
     "name": "stderr",
     "output_type": "stream",
     "text": [
      "\n"
     ]
    }
   ],
   "source": [
    "print(infer.query(['insuranceclaim'], evidence = {'smoker': 0, 'bmi_group': 2}))"
   ]
  },
  {
   "cell_type": "code",
   "execution_count": 25,
   "metadata": {},
   "outputs": [
    {
     "name": "stderr",
     "output_type": "stream",
     "text": [
      "\n",
      "\n",
      "  0%|          | 0/8 [00:00<?, ?it/s]\u001b[A\u001b[A\n",
      "\n",
      "Finding Elimination Order: :   0%|          | 0/8 [00:00<?, ?it/s]\u001b[A\u001b[A\n",
      "\n",
      "\n",
      "  0%|          | 0/8 [00:00<?, ?it/s]\u001b[A\u001b[A\u001b[A\n",
      "\n",
      "\n",
      "Eliminating: charges_group:   0%|          | 0/8 [00:00<?, ?it/s]\u001b[A\u001b[A\u001b[A\n",
      "\n",
      "\n",
      "Eliminating: age_group:   0%|          | 0/8 [00:00<?, ?it/s]    \u001b[A\u001b[A\u001b[A\n",
      "\n",
      "\n",
      "Eliminating: children:   0%|          | 0/8 [00:00<?, ?it/s] \u001b[A\u001b[A\u001b[A\n",
      "\n",
      "\n",
      "Eliminating: southwest:   0%|          | 0/8 [00:00<?, ?it/s]\u001b[A\u001b[A\u001b[A\n",
      "\n",
      "\n",
      "Eliminating: northwest:   0%|          | 0/8 [00:00<?, ?it/s]\u001b[A\u001b[A\u001b[A\n",
      "\n",
      "\n",
      "Eliminating: sex:   0%|          | 0/8 [00:00<?, ?it/s]      \u001b[A\u001b[A\u001b[A\n",
      "\n",
      "\n",
      "Eliminating: northeast:   0%|          | 0/8 [00:00<?, ?it/s]\u001b[A\u001b[A\u001b[A\n",
      "\n",
      "\n",
      "Eliminating: southeast: 100%|██████████| 8/8 [00:00<00:00, 120.27it/s]"
     ]
    },
    {
     "name": "stdout",
     "output_type": "stream",
     "text": [
      "+-------------------+-----------------------+\n",
      "| insuranceclaim    |   phi(insuranceclaim) |\n",
      "+===================+=======================+\n",
      "| insuranceclaim(0) |                0.1144 |\n",
      "+-------------------+-----------------------+\n",
      "| insuranceclaim(1) |                0.8856 |\n",
      "+-------------------+-----------------------+\n"
     ]
    },
    {
     "name": "stderr",
     "output_type": "stream",
     "text": [
      "\n"
     ]
    }
   ],
   "source": [
    "print(infer.query(['insuranceclaim'], evidence = {'smoker':1, 'bmi_group':2}))"
   ]
  },
  {
   "cell_type": "code",
   "execution_count": 26,
   "metadata": {},
   "outputs": [
    {
     "name": "stderr",
     "output_type": "stream",
     "text": [
      "\n",
      "\n",
      "\n",
      "  0%|          | 0/8 [00:00<?, ?it/s]\u001b[A\u001b[A\u001b[A\n",
      "\n",
      "\n",
      "Finding Elimination Order: :   0%|          | 0/8 [00:00<?, ?it/s]\u001b[A\u001b[A\u001b[A\n",
      "\n",
      "\n",
      "\n",
      "  0%|          | 0/8 [00:00<?, ?it/s]\u001b[A\u001b[A\u001b[A\u001b[A\n",
      "\n",
      "\n",
      "\n",
      "Eliminating: charges_group:   0%|          | 0/8 [00:00<?, ?it/s]\u001b[A\u001b[A\u001b[A\u001b[A\n",
      "\n",
      "\n",
      "\n",
      "Eliminating: bmi_group:   0%|          | 0/8 [00:00<?, ?it/s]    \u001b[A\u001b[A\u001b[A\u001b[A\n",
      "\n",
      "\n",
      "\n",
      "Eliminating: children:   0%|          | 0/8 [00:00<?, ?it/s] \u001b[A\u001b[A\u001b[A\u001b[A\n",
      "\n",
      "\n",
      "\n",
      "Eliminating: southwest:   0%|          | 0/8 [00:00<?, ?it/s]\u001b[A\u001b[A\u001b[A\u001b[A\n",
      "\n",
      "\n",
      "\n",
      "Eliminating: northwest:   0%|          | 0/8 [00:00<?, ?it/s]\u001b[A\u001b[A\u001b[A\u001b[A\n",
      "\n",
      "\n",
      "\n",
      "Eliminating: sex:   0%|          | 0/8 [00:00<?, ?it/s]      \u001b[A\u001b[A\u001b[A\u001b[A\n",
      "\n",
      "\n",
      "\n",
      "Eliminating: northeast:   0%|          | 0/8 [00:00<?, ?it/s]\u001b[A\u001b[A\u001b[A\u001b[A\n",
      "\n",
      "\n",
      "\n",
      "Eliminating: southeast: 100%|██████████| 8/8 [00:00<00:00, 151.84it/s]\u001b[A"
     ]
    },
    {
     "name": "stdout",
     "output_type": "stream",
     "text": [
      "+-------------------+-----------------------+\n",
      "| insuranceclaim    |   phi(insuranceclaim) |\n",
      "+===================+=======================+\n",
      "| insuranceclaim(0) |                0.0571 |\n",
      "+-------------------+-----------------------+\n",
      "| insuranceclaim(1) |                0.9429 |\n",
      "+-------------------+-----------------------+\n"
     ]
    },
    {
     "name": "stderr",
     "output_type": "stream",
     "text": [
      "\n"
     ]
    }
   ],
   "source": [
    "print(infer.query(['insuranceclaim'], evidence = {'smoker': 1, 'age_group': 2}))"
   ]
  }
 ],
 "metadata": {
  "kernelspec": {
   "display_name": "Python 3 (ipykernel)",
   "language": "python",
   "name": "python3"
  },
  "language_info": {
   "codemirror_mode": {
    "name": "ipython",
    "version": 3
   },
   "file_extension": ".py",
   "mimetype": "text/x-python",
   "name": "python",
   "nbconvert_exporter": "python",
   "pygments_lexer": "ipython3",
   "version": "3.9.12"
  }
 },
 "nbformat": 4,
 "nbformat_minor": 4
}
